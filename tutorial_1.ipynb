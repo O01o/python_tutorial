{
 "cells": [
  {
   "cell_type": "markdown",
   "metadata": {},
   "source": [
    "# Python チュートリアル1: 基本的な型とその扱い"
   ]
  },
  {
   "cell_type": "markdown",
   "metadata": {},
   "source": [
    "## コンソール出力"
   ]
  },
  {
   "cell_type": "markdown",
   "metadata": {},
   "source": [
    "### Hello World"
   ]
  },
  {
   "cell_type": "code",
   "execution_count": 1,
   "metadata": {},
   "outputs": [
    {
     "name": "stdout",
     "output_type": "stream",
     "text": [
      "Hello World\n"
     ]
    }
   ],
   "source": [
    "print(\"Hello World\")"
   ]
  },
  {
   "cell_type": "markdown",
   "metadata": {},
   "source": [
    "### 変数と混ぜる"
   ]
  },
  {
   "cell_type": "code",
   "execution_count": 2,
   "metadata": {},
   "outputs": [
    {
     "name": "stdout",
     "output_type": "stream",
     "text": [
      "Hello, rarabon !\n",
      "Hello, rarabon!\n",
      "Hello, rarabon!\n"
     ]
    }
   ],
   "source": [
    "name = \"rarabon\"\n",
    "\n",
    "print(\"Hello,\", name, \"!\")\n",
    "print(\"Hello, \" + name + \"!\")\n",
    "print(f\"Hello, {name}!\")"
   ]
  },
  {
   "cell_type": "markdown",
   "metadata": {},
   "source": [
    "## 基本的な型"
   ]
  },
  {
   "cell_type": "markdown",
   "metadata": {},
   "source": [
    "### 型の出力"
   ]
  },
  {
   "cell_type": "code",
   "execution_count": 3,
   "metadata": {},
   "outputs": [
    {
     "name": "stdout",
     "output_type": "stream",
     "text": [
      "8 <class 'int'>\n",
      "2.0 <class 'float'>\n",
      "apple <class 'str'>\n",
      "True <class 'bool'>\n",
      "['acecitron', 22, True] <class 'list'>\n",
      "{'name': 'acecitron', 'age': 22, 'has-driver-license': True} <class 'dict'>\n"
     ]
    }
   ],
   "source": [
    "num = 8 # 整数型\n",
    "fnum = 2. # 浮動小数点数型\n",
    "text = \"apple\" # 文字列型\n",
    "flag = True # or False # 真理値型(ブーリアン型)\n",
    "mix_list = [\"acecitron\", 22, True] # リスト型\n",
    "mix_dict = { # 辞書型\n",
    "    \"name\": \"acecitron\",\n",
    "    \"age\": 22,\n",
    "    \"has-driver-license\": True\n",
    "}\n",
    "\n",
    "# 文字列型に指定せずとも直接表示できる\n",
    "print(num, type(num))\n",
    "print(fnum, type(fnum)) \n",
    "print(text, type(text))\n",
    "print(flag, type(flag))\n",
    "print(mix_list, type(mix_list))\n",
    "print(mix_dict, type(mix_dict))"
   ]
  },
  {
   "cell_type": "markdown",
   "metadata": {},
   "source": [
    "### 型指定"
   ]
  },
  {
   "cell_type": "code",
   "execution_count": 4,
   "metadata": {},
   "outputs": [
    {
     "name": "stdout",
     "output_type": "stream",
     "text": [
      "<class 'int'> <class 'float'> <class 'str'> <class 'bool'> <class 'list'> <class 'dict'>\n"
     ]
    }
   ],
   "source": [
    "num: int = 8\n",
    "fnum: float = 2.\n",
    "text: str = \"apple\"\n",
    "flag: bool = True # or False\n",
    "\n",
    "name_list: list[str] = [\"alice\", \"bob\", \"carol\"]\n",
    "name_tall_dict: dict[str, float] = {\n",
    "    \"alice\": 158,\n",
    "    \"bob\": 171,\n",
    "    \"carol\": 123\n",
    "}\n",
    "\n",
    "# Null許容(Python 3.10からこのような形で宣言可能)\n",
    "nullable_num: int|None = None\n",
    "\n",
    "print(type(num), type(fnum), type(text), type(flag), type(name_list), type(name_tall_dict))"
   ]
  },
  {
   "cell_type": "markdown",
   "metadata": {},
   "source": [
    "### 四則演算+α"
   ]
  },
  {
   "cell_type": "code",
   "execution_count": 5,
   "metadata": {},
   "outputs": [
    {
     "name": "stdout",
     "output_type": "stream",
     "text": [
      "加算: 5\n",
      "減算: 1\n",
      "乗算: 6\n",
      "累乗: 9\n",
      "除算: 1.5\n",
      "除算(商): 1\n",
      "除算(剰余): 1\n"
     ]
    }
   ],
   "source": [
    "a = 3\n",
    "b = 2\n",
    "print(\"加算:\", a + b)\n",
    "print(\"減算:\", a - b)\n",
    "print(\"乗算:\", a * b)\n",
    "print(\"累乗:\", a ** b)\n",
    "print(\"除算:\", a / b)\n",
    "print(\"除算(商):\", a // b)\n",
    "print(\"除算(剰余):\", a % b)"
   ]
  },
  {
   "cell_type": "markdown",
   "metadata": {},
   "source": [
    "### ランダム値の生成"
   ]
  },
  {
   "cell_type": "code",
   "execution_count": 6,
   "metadata": {},
   "outputs": [
    {
     "name": "stdout",
     "output_type": "stream",
     "text": [
      "0.40786439318739887 61\n"
     ]
    }
   ],
   "source": [
    "import random\n",
    "\n",
    "rand_fnum = random.random() # 0~1までの浮動小数点数\n",
    "rand_num = random.randint(0, 100) # a~bまでの整数\n",
    "\n",
    "print(rand_fnum, rand_num)"
   ]
  },
  {
   "cell_type": "markdown",
   "metadata": {},
   "source": [
    "## コンソール入力"
   ]
  },
  {
   "cell_type": "markdown",
   "metadata": {},
   "source": [
    "### 文字列や数値の情報入力"
   ]
  },
  {
   "cell_type": "code",
   "execution_count": 9,
   "metadata": {},
   "outputs": [
    {
     "name": "stdout",
     "output_type": "stream",
     "text": [
      "your name ?: ayato matsui\n",
      "your age ?: 22\n",
      "ayato matsui 22\n",
      "<class 'str'> <class 'int'>\n"
     ]
    }
   ],
   "source": [
    "print(\"your name ?:\", end=\" \") # 改行なしコンソール出力\n",
    "name = input()\n",
    "print(name)\n",
    "print(\"your age ?:\", end=\" \")\n",
    "age = int(input())\n",
    "print(age)\n",
    "print(name, age)\n",
    "print(type(name), type(age))"
   ]
  },
  {
   "cell_type": "markdown",
   "metadata": {},
   "source": [
    "### タイム測定 (処理を起動させた後、好きなタイミングでEnterを押す)"
   ]
  },
  {
   "cell_type": "code",
   "execution_count": 10,
   "metadata": {},
   "outputs": [
    {
     "name": "stdout",
     "output_type": "stream",
     "text": [
      "please enter!\n",
      "time: 0:00:01.824295\n"
     ]
    }
   ],
   "source": [
    "from datetime import datetime\n",
    "\n",
    "start = datetime.now()\n",
    "print(\"please enter!\")\n",
    "input()\n",
    "stop = datetime.now()\n",
    "\n",
    "print(\"time:\", stop - start)"
   ]
  },
  {
   "cell_type": "markdown",
   "metadata": {},
   "source": [
    "## オブジェクト型"
   ]
  },
  {
   "cell_type": "markdown",
   "metadata": {},
   "source": [
    "### 列挙型"
   ]
  },
  {
   "cell_type": "code",
   "execution_count": 14,
   "metadata": {},
   "outputs": [],
   "source": [
    "from enum import Enum"
   ]
  },
  {
   "cell_type": "code",
   "execution_count": 15,
   "metadata": {},
   "outputs": [],
   "source": [
    "class Gender(Enum):\n",
    "    MALE = \"male\"\n",
    "    FEMALE = \"female\"\n",
    "    OTHERS = \"others\""
   ]
  },
  {
   "cell_type": "markdown",
   "metadata": {},
   "source": [
    "### データクラス型"
   ]
  },
  {
   "cell_type": "code",
   "execution_count": 16,
   "metadata": {},
   "outputs": [],
   "source": [
    "import dataclasses\n",
    "from dataclasses import dataclass"
   ]
  },
  {
   "cell_type": "code",
   "execution_count": 17,
   "metadata": {},
   "outputs": [],
   "source": [
    "@dataclass(frozen=True)\n",
    "class User:\n",
    "    name: str\n",
    "    gender: Gender\n",
    "    age: int\n",
    "    tall: float\n",
    "    has_driver_license: bool\n",
    "    profile: str|None = None"
   ]
  },
  {
   "cell_type": "code",
   "execution_count": 18,
   "metadata": {},
   "outputs": [
    {
     "name": "stdout",
     "output_type": "stream",
     "text": [
      "User(name='Alice', gender=<Gender.FEMALE: 'female'>, age=16, tall=158, has_driver_license=False, profile='Nice to meat you')\n",
      "User(name='Bob', gender=<Gender.MALE: 'male'>, age=18, tall=171, has_driver_license=True, profile=None)\n",
      "User(name='Carol', gender=<Gender.OTHERS: 'others'>, age=10, tall=123, has_driver_license=False, profile=None)\n"
     ]
    }
   ],
   "source": [
    "user1 = User(\"Alice\", Gender.FEMALE, 16, 158, False)\n",
    "user2 = User(\"Bob\", Gender.MALE, 18, 171, True)\n",
    "user3 = User(\"Carol\", Gender.OTHERS, 10, 123, False)\n",
    "\n",
    "user1 = dataclasses.replace(user1, profile=\"Nice to meat you\")\n",
    "\n",
    "print(user1)\n",
    "print(user2)\n",
    "print(user3)"
   ]
  }
 ],
 "metadata": {
  "kernelspec": {
   "display_name": "Python 3",
   "language": "python",
   "name": "python3"
  },
  "language_info": {
   "codemirror_mode": {
    "name": "ipython",
    "version": 3
   },
   "file_extension": ".py",
   "mimetype": "text/x-python",
   "name": "python",
   "nbconvert_exporter": "python",
   "pygments_lexer": "ipython3",
   "version": "3.11.4"
  }
 },
 "nbformat": 4,
 "nbformat_minor": 2
}
