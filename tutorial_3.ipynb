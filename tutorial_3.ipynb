{
 "cells": [
  {
   "cell_type": "markdown",
   "metadata": {},
   "source": [
    "# Python チュートリアル3: 往復処理"
   ]
  },
  {
   "cell_type": "markdown",
   "metadata": {},
   "source": [
    "## 数値の往復"
   ]
  },
  {
   "cell_type": "markdown",
   "metadata": {},
   "source": [
    "### 基礎的な出力"
   ]
  },
  {
   "cell_type": "code",
   "execution_count": null,
   "metadata": {},
   "outputs": [],
   "source": [
    "n = 10\n",
    "for i in range(10):\n",
    "    print(i)"
   ]
  },
  {
   "cell_type": "code",
   "execution_count": null,
   "metadata": {},
   "outputs": [],
   "source": [
    "start = 3\n",
    "end = 10\n",
    "for i in range(start, end):\n",
    "    print(i)"
   ]
  },
  {
   "cell_type": "code",
   "execution_count": 3,
   "metadata": {},
   "outputs": [
    {
     "name": "stdout",
     "output_type": "stream",
     "text": [
      "3\n",
      "5\n",
      "7\n"
     ]
    }
   ],
   "source": [
    "start = 3\n",
    "end = 9\n",
    "incremental = 2\n",
    "for i in range(start, end, incremental):\n",
    "    print(i)"
   ]
  },
  {
   "cell_type": "markdown",
   "metadata": {},
   "source": [
    "### 多重往復\n",
    "九九の実装"
   ]
  },
  {
   "cell_type": "code",
   "execution_count": 6,
   "metadata": {},
   "outputs": [
    {
     "name": "stdout",
     "output_type": "stream",
     "text": [
      "1x1=1 1x2=2 1x3=3 1x4=4 1x5=5 1x6=6 1x7=7 1x8=8 1x9=9 \n",
      "2x1=2 2x2=4 2x3=6 2x4=8 2x5=10 2x6=12 2x7=14 2x8=16 2x9=18 \n",
      "3x1=3 3x2=6 3x3=9 3x4=12 3x5=15 3x6=18 3x7=21 3x8=24 3x9=27 \n",
      "4x1=4 4x2=8 4x3=12 4x4=16 4x5=20 4x6=24 4x7=28 4x8=32 4x9=36 \n",
      "5x1=5 5x2=10 5x3=15 5x4=20 5x5=25 5x6=30 5x7=35 5x8=40 5x9=45 \n",
      "6x1=6 6x2=12 6x3=18 6x4=24 6x5=30 6x6=36 6x7=42 6x8=48 6x9=54 \n",
      "7x1=7 7x2=14 7x3=21 7x4=28 7x5=35 7x6=42 7x7=49 7x8=56 7x9=63 \n",
      "8x1=8 8x2=16 8x3=24 8x4=32 8x5=40 8x6=48 8x7=56 8x8=64 8x9=72 \n",
      "9x1=9 9x2=18 9x3=27 9x4=36 9x5=45 9x6=54 9x7=63 9x8=72 9x9=81 \n"
     ]
    }
   ],
   "source": [
    "n = 10\n",
    "m = 10\n",
    "for i in range(1, n):\n",
    "    for j in range(1, n):\n",
    "        print(f\"{i}x{j}={i*j}\", end=\" \")\n",
    "    print()"
   ]
  },
  {
   "cell_type": "markdown",
   "metadata": {},
   "source": [
    "### While文\n",
    "ユークリッドの互除法の実装 (複雑な自然数同士の最大公約数を算出)"
   ]
  },
  {
   "cell_type": "code",
   "execution_count": 10,
   "metadata": {},
   "outputs": [
    {
     "name": "stdout",
     "output_type": "stream",
     "text": [
      "gcd(29,138) = 1\n"
     ]
    }
   ],
   "source": [
    "a: int = int(input())\n",
    "b: int = int(input())\n",
    "assert a >= 1 and b >= 1 and type(a) == int and type(b) == int\n",
    "x = a\n",
    "y = b\n",
    "\n",
    "while x != y:\n",
    "    if x > y: x -= y\n",
    "    else: y -= x\n",
    "\n",
    "print(f\"gcd({a},{b}) = {x}\")"
   ]
  },
  {
   "cell_type": "markdown",
   "metadata": {},
   "source": [
    "### FizzBuzzの実装"
   ]
  },
  {
   "cell_type": "code",
   "execution_count": 7,
   "metadata": {},
   "outputs": [
    {
     "name": "stdout",
     "output_type": "stream",
     "text": [
      "0 : FizzBuzz!!!\n",
      "1 : None\n",
      "2 : None\n",
      "3 : Fizz!\n",
      "4 : None\n",
      "5 : Buzz!!\n",
      "6 : Fizz!\n",
      "7 : None\n",
      "8 : None\n",
      "9 : Fizz!\n",
      "10 : Buzz!!\n",
      "11 : None\n",
      "12 : Fizz!\n",
      "13 : None\n",
      "14 : None\n",
      "15 : FizzBuzz!!!\n",
      "16 : None\n",
      "17 : None\n",
      "18 : Fizz!\n",
      "19 : None\n",
      "20 : Buzz!!\n",
      "21 : Fizz!\n",
      "22 : None\n",
      "23 : None\n",
      "24 : Fizz!\n",
      "25 : Buzz!!\n",
      "26 : None\n",
      "27 : Fizz!\n",
      "28 : None\n",
      "29 : None\n",
      "30 : FizzBuzz!!!\n",
      "31 : None\n",
      "32 : None\n",
      "33 : Fizz!\n",
      "34 : None\n",
      "35 : Buzz!!\n",
      "36 : Fizz!\n",
      "37 : None\n",
      "38 : None\n",
      "39 : Fizz!\n",
      "40 : Buzz!!\n",
      "41 : None\n",
      "42 : Fizz!\n",
      "43 : None\n",
      "44 : None\n",
      "45 : FizzBuzz!!!\n",
      "46 : None\n",
      "47 : None\n",
      "48 : Fizz!\n",
      "49 : None\n",
      "50 : Buzz!!\n",
      "51 : Fizz!\n",
      "52 : None\n",
      "53 : None\n",
      "54 : Fizz!\n",
      "55 : Buzz!!\n",
      "56 : None\n",
      "57 : Fizz!\n",
      "58 : None\n",
      "59 : None\n",
      "60 : FizzBuzz!!!\n",
      "61 : None\n",
      "62 : None\n",
      "63 : Fizz!\n",
      "64 : None\n",
      "65 : Buzz!!\n",
      "66 : Fizz!\n",
      "67 : None\n",
      "68 : None\n",
      "69 : Fizz!\n",
      "70 : Buzz!!\n",
      "71 : None\n",
      "72 : Fizz!\n",
      "73 : None\n",
      "74 : None\n",
      "75 : FizzBuzz!!!\n",
      "76 : None\n",
      "77 : None\n",
      "78 : Fizz!\n",
      "79 : None\n",
      "80 : Buzz!!\n",
      "81 : Fizz!\n",
      "82 : None\n",
      "83 : None\n",
      "84 : Fizz!\n",
      "85 : Buzz!!\n",
      "86 : None\n",
      "87 : Fizz!\n",
      "88 : None\n",
      "89 : None\n",
      "90 : FizzBuzz!!!\n",
      "91 : None\n",
      "92 : None\n",
      "93 : Fizz!\n",
      "94 : None\n",
      "95 : Buzz!!\n",
      "96 : Fizz!\n",
      "97 : None\n",
      "98 : None\n",
      "99 : Fizz!\n"
     ]
    }
   ],
   "source": [
    "fizz = 3\n",
    "buzz = 5\n",
    "max_num = 100\n",
    "for i in range(100):\n",
    "    print(i, \":\", end=\" \")\n",
    "    if i % fizz == 0 and i % buzz == 0: print(\"FizzBuzz!!!\")\n",
    "    elif i % fizz == 0: print(\"Fizz!\")\n",
    "    elif i % buzz == 0: print(\"Buzz!!\")\n",
    "    else: print(\"None\")"
   ]
  }
 ],
 "metadata": {
  "kernelspec": {
   "display_name": "Python 3",
   "language": "python",
   "name": "python3"
  },
  "language_info": {
   "codemirror_mode": {
    "name": "ipython",
    "version": 3
   },
   "file_extension": ".py",
   "mimetype": "text/x-python",
   "name": "python",
   "nbconvert_exporter": "python",
   "pygments_lexer": "ipython3",
   "version": "3.11.4"
  }
 },
 "nbformat": 4,
 "nbformat_minor": 2
}
