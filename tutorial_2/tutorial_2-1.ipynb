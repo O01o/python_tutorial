{
 "cells": [
  {
   "cell_type": "markdown",
   "metadata": {},
   "source": [
    "# Python チュートリアル2: 条件分岐"
   ]
  },
  {
   "cell_type": "markdown",
   "metadata": {},
   "source": [
    "## 二分岐"
   ]
  },
  {
   "cell_type": "code",
   "execution_count": 29,
   "metadata": {},
   "outputs": [
    {
     "name": "stdout",
     "output_type": "stream",
     "text": [
      "flag is true\n"
     ]
    }
   ],
   "source": [
    "flag = True\n",
    "if flag:\n",
    "    print(\"flag is true\")\n",
    "else:\n",
    "    print(\"flag is false\")"
   ]
  },
  {
   "cell_type": "markdown",
   "metadata": {},
   "source": [
    "## 条件演算子"
   ]
  },
  {
   "cell_type": "code",
   "execution_count": 32,
   "metadata": {},
   "outputs": [
    {
     "name": "stdout",
     "output_type": "stream",
     "text": [
      "3.0 is 3.0\n",
      "3.0 is 3.0 or less\n",
      "3.0 is 3.0 or more\n"
     ]
    }
   ],
   "source": [
    "a: float = float(input())\n",
    "b: float = float(input())\n",
    "\n",
    "if a == b: print(f\"{a} is {b}\")\n",
    "if a != b: print(f\"{a} is not {b}\")\n",
    "if a < b: print(f\"{a} is smaller than {b}\")\n",
    "if a > b: print(f\"{a} is bigger than {b}\")\n",
    "if a <= b: print(f\"{a} is {b} or less\")\n",
    "if a >= b: print(f\"{a} is {b} or more\")"
   ]
  },
  {
   "cell_type": "markdown",
   "metadata": {},
   "source": [
    "## 条件式のネスト\n",
    "じゃんけんの実装"
   ]
  },
  {
   "cell_type": "code",
   "execution_count": 30,
   "metadata": {},
   "outputs": [],
   "source": [
    "from enum import Enum, auto\n",
    "import random\n",
    "\n",
    "class Hand(Enum):\n",
    "    ROCK = auto()\n",
    "    SCISSORS = auto()\n",
    "    PAPER = auto()\n",
    "\n",
    "def print_draw(): print(\"Draw\")\n",
    "def print_win(): print(\"Win!!\")\n",
    "def print_lose(): print(\"Lose...\")"
   ]
  },
  {
   "cell_type": "code",
   "execution_count": 31,
   "metadata": {},
   "outputs": [
    {
     "name": "stdout",
     "output_type": "stream",
     "text": [
      "Please input your Hand (0~2): Hand.SCISSORS\n",
      "CPU hand is: Hand.PAPER\n",
      "Win!!\n"
     ]
    }
   ],
   "source": [
    "print(\"Please input your Hand (0~2): \", end=\"\")\n",
    "your_hand: Hand = list(Hand)[int(input()) % len(list(Hand))]\n",
    "print(your_hand)\n",
    "cpu_hand: Hand = random.choice(list(Hand))\n",
    "print(f\"CPU hand is:\", cpu_hand)\n",
    "\n",
    "if your_hand == Hand.ROCK:\n",
    "    if cpu_hand == Hand.ROCK: print_draw()\n",
    "    elif cpu_hand == Hand.SCISSORS: print_win()\n",
    "    else: print_lose()\n",
    "elif your_hand == Hand.SCISSORS:\n",
    "    if cpu_hand == Hand.ROCK: print_lose()\n",
    "    elif cpu_hand == Hand.SCISSORS: print_draw()\n",
    "    else: print_win()\n",
    "else:\n",
    "    if cpu_hand == Hand.ROCK: print_win()\n",
    "    elif cpu_hand == Hand.SCISSORS: print_lose()\n",
    "    else: print_draw()\n"
   ]
  },
  {
   "cell_type": "markdown",
   "metadata": {},
   "source": [
    "## 論理演算を兼ねた条件式\n",
    "三角形の分類の実装"
   ]
  },
  {
   "cell_type": "code",
   "execution_count": 28,
   "metadata": {},
   "outputs": [
    {
     "name": "stdout",
     "output_type": "stream",
     "text": [
      "-1.0 2.0 3.0\n"
     ]
    },
    {
     "ename": "AssertionError",
     "evalue": "",
     "output_type": "error",
     "traceback": [
      "\u001b[1;31m---------------------------------------------------------------------------\u001b[0m",
      "\u001b[1;31mAssertionError\u001b[0m                            Traceback (most recent call last)",
      "Cell \u001b[1;32mIn[28], line 7\u001b[0m\n\u001b[0;32m      4\u001b[0m \u001b[38;5;28mprint\u001b[39m(a, b, c)\n\u001b[0;32m      6\u001b[0m \u001b[38;5;66;03m# そもそも三角形が成立するかを調べる\u001b[39;00m\n\u001b[1;32m----> 7\u001b[0m \u001b[38;5;28;01massert\u001b[39;00m a \u001b[38;5;241m>\u001b[39m \u001b[38;5;241m0\u001b[39m \u001b[38;5;129;01mand\u001b[39;00m b \u001b[38;5;241m>\u001b[39m \u001b[38;5;241m0\u001b[39m \u001b[38;5;129;01mand\u001b[39;00m c \u001b[38;5;241m>\u001b[39m \u001b[38;5;241m0\u001b[39m \u001b[38;5;66;03m# a,b,cが正の長さでなければエラー\u001b[39;00m\n\u001b[0;32m      8\u001b[0m \u001b[38;5;28;01massert\u001b[39;00m a\u001b[38;5;241m+\u001b[39mb \u001b[38;5;241m>\u001b[39m c \u001b[38;5;129;01mand\u001b[39;00m b\u001b[38;5;241m+\u001b[39mc \u001b[38;5;241m>\u001b[39m a \u001b[38;5;129;01mand\u001b[39;00m a\u001b[38;5;241m+\u001b[39mc \u001b[38;5;241m>\u001b[39m b\n\u001b[0;32m     10\u001b[0m \u001b[38;5;28;01mif\u001b[39;00m a \u001b[38;5;241m==\u001b[39m b \u001b[38;5;129;01mand\u001b[39;00m b \u001b[38;5;241m==\u001b[39m c \u001b[38;5;129;01mand\u001b[39;00m a \u001b[38;5;241m==\u001b[39m c:\n",
      "\u001b[1;31mAssertionError\u001b[0m: "
     ]
    }
   ],
   "source": [
    "a: float = float(input())\n",
    "b: float = float(input())\n",
    "c: float = float(input())\n",
    "print(a, b, c)\n",
    "\n",
    "# そもそも三角形が成立するかを調べる\n",
    "assert a > 0 and b > 0 and c > 0 # a,b,cが正の長さでなければエラー\n",
    "assert a+b > c and b+c > a and a+c > b # ある一辺が他の二辺より長ければエラー\n",
    "\n",
    "if a == b and b == c and a == c: print(\"正三角形です\")\n",
    "elif a == b or b == c or a == c: print(\"二等辺三角形です\")\n",
    "else: print(\"不等辺三角形です\")"
   ]
  },
  {
   "cell_type": "markdown",
   "metadata": {},
   "source": [
    "## 三項演算子"
   ]
  },
  {
   "cell_type": "code",
   "execution_count": 33,
   "metadata": {},
   "outputs": [
    {
     "name": "stdout",
     "output_type": "stream",
     "text": [
      "rarabon\n"
     ]
    }
   ],
   "source": [
    "flag = True\n",
    "name = \"rarabon\" if flag else \"acecitron\"\n",
    "print(name)"
   ]
  }
 ],
 "metadata": {
  "kernelspec": {
   "display_name": "Python 3",
   "language": "python",
   "name": "python3"
  },
  "language_info": {
   "codemirror_mode": {
    "name": "ipython",
    "version": 3
   },
   "file_extension": ".py",
   "mimetype": "text/x-python",
   "name": "python",
   "nbconvert_exporter": "python",
   "pygments_lexer": "ipython3",
   "version": "3.11.4"
  }
 },
 "nbformat": 4,
 "nbformat_minor": 2
}
